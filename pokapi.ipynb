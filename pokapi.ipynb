{
 "cells": [
  {
   "cell_type": "markdown",
   "metadata": {},
   "source": [
    "# Exercise"
   ]
  },
  {
   "cell_type": "markdown",
   "metadata": {},
   "source": [
    "#### Pokemon API Wrapper"
   ]
  },
  {
   "cell_type": "markdown",
   "metadata": {},
   "source": [
    "Create a python wrapper for the Pokemon API. It should take in a pokemon name and display the pokemon with its height and weight"
   ]
  },
  {
   "cell_type": "code",
   "execution_count": 11,
   "metadata": {},
   "outputs": [],
   "source": [
    "import requests\n",
    "\n",
    "class Pokemon():\n",
    "    \n",
    "    def __init__(self):\n",
    "        self.base_url = 'https://pokeapi.co/api/v2/pokemon/'\n",
    "    \n",
    "    def _get(self, name):\n",
    "        url = self.base_url + name.lower()\n",
    "        r = requests.get(url)\n",
    "        \n",
    "        if r.ok:\n",
    "            return r.json()\n",
    "        else:\n",
    "            print(\"there was an error\")\n",
    "        \n",
    "    def get_pokemon(self, pokemon):\n",
    "        data = self._get(pokemon.lower())\n",
    "        height = data['height']\n",
    "        weight = data['weight']\n",
    "        print(f'{pokemon} is {height} ft and {weight} lbs')\n",
    "        \n",
    "\n",
    "        \n",
    "pokedex = Pokemon()"
   ]
  },
  {
   "cell_type": "code",
   "execution_count": 15,
   "metadata": {},
   "outputs": [
    {
     "name": "stdout",
     "output_type": "stream",
     "text": [
      "haunter is 16 ft and 1 lbs\n"
     ]
    }
   ],
   "source": [
    "pokedex.get_pokemon('haunter')"
   ]
  }
 ],
 "metadata": {
  "kernelspec": {
   "display_name": "Python 3 (ipykernel)",
   "language": "python",
   "name": "python3"
  },
  "language_info": {
   "codemirror_mode": {
    "name": "ipython",
    "version": 3
   },
   "file_extension": ".py",
   "mimetype": "text/x-python",
   "name": "python",
   "nbconvert_exporter": "python",
   "pygments_lexer": "ipython3",
   "version": "3.9.7"
  }
 },
 "nbformat": 4,
 "nbformat_minor": 4
}
